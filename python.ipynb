{
 "cells": [
  {
   "cell_type": "markdown",
   "id": "72defe2c-1e3e-453d-a9cd-ddbab1ab595f",
   "metadata": {},
   "source": [
    "#### Q1. Explain Class and Object with respect to Object-Oriented Programming. Give a suitable example.\n",
    "\n",
    "\n",
    "#### Sol. In object-oriented programming(OPP), a class and an object are fundamental concepts that define the structure and behavior of a program.\n",
    "\n",
    "#### 1. Class: A class is a blueprint or a template for creating object. It defines a set of attributes (data) and methods (functions) that objects of that class will possess. It acts as a blueprint that specifies how objects should be created and what properties and behaviors they should have. It provides a way to organize and structure code, promoting code reusability and modularity.\n",
    "\n",
    "#### An example of 'class' is given below:"
   ]
  },
  {
   "cell_type": "code",
   "execution_count": 1,
   "id": "68c1d471-2b8e-4dc8-909b-28b466e4972c",
   "metadata": {},
   "outputs": [],
   "source": [
    "class car:\n",
    "    def __init__(self, model, brand, color):\n",
    "        self.model= model\n",
    "        self.brand=brand\n",
    "        self.color=color\n",
    "        \n",
    "    def start_engine(self):\n",
    "        print('engine started')\n",
    "        \n",
    "    def drive(self):\n",
    "        print('car is being driven')\n",
    "        \n",
    "    def stop_engine(self):\n",
    "        print('engine stopped')"
   ]
  },
  {
   "cell_type": "markdown",
   "id": "11935a51-f519-442f-8230-142c3594d484",
   "metadata": {},
   "source": [
    "#### 2. Object: An object is an instance of a class. It is a concrete entity that is created based on the class blueprint. Objects have there own unique state (attribute values) and behavior (method implementation), based on the class they belongs to. An object can interact with each other, comminicate through method calls and exchange data.\n",
    "\n",
    "#### An example of 'object' is given below:"
   ]
  },
  {
   "cell_type": "code",
   "execution_count": 2,
   "id": "925ab868-92e9-4f89-b60b-b183df989a91",
   "metadata": {},
   "outputs": [],
   "source": [
    "my_car= car('baleno', 'maruti', 'gray')"
   ]
  },
  {
   "cell_type": "markdown",
   "id": "88557c8c-c8f8-4b99-b5e2-a51f3a9a0bf5",
   "metadata": {},
   "source": [
    "#### Q2. Name the four pillars of OOPs.\n",
    "\n",
    "#### Sol. The four pillars of object-oriented programming (OOPs) are:\n",
    "\n",
    "#### 1. Polymorphism: Polymorphism allows objects of different classes to be treated as objects of a common superclass. It enables the use of a single interface to represent different types of objects. Polymorphism allows flexibility and code reuse, as it allows objects to be processed in a generic way without needing to know their specific types. It is achieved through method overriding and method overloading.\n",
    "\n",
    "#### 2. Encapsulation: Encapsulation is the process of bundling data and methods together within a class, and controlling access to that data through methods. It hides the internal implementation details of an object and provides a way to interect with the object through a well-defined interface. Encapsulation promotes data security, and controlled access.\n",
    "\n",
    "#### 3. Inheritance: Inheritance allows classes to inherit attributes and behaviour from other classes, known as base or parent classes. It establishes a hierarchical relationship between classes, where child classes inherit the properties and methods of the parent class. Inheritance promotes code reuse, modularity, and extensibility by allowing the creation of specialized classes based on existing ones.\n",
    "\n",
    "#### 4. Abstraction: Abstraction involes representing the essential features and behaviors of an object while hiding unnecessary details. It provides a simplified and high-level view of an object or system, focusing on the relevent characteristics and functionality. Abstraction is achieved through abstract classes and interface, which defines a contract or set of methods signatures without specifying the implementation. It allows for modularity, code, reusability, and easier maintenance."
   ]
  },
  {
   "cell_type": "markdown",
   "id": "27cb2eff-2b4b-4f79-bf18-b18490a88369",
   "metadata": {},
   "source": [
    "#### Q3. Explain why the __init__() function is used. Give a suitable example.\n",
    "\n",
    "#### Sol. The __init__() function in python is a special method or constructor that is automatically called when an object is created from a class. It is used to initialize the attributes or properties of the object.\n",
    "\n",
    "#### Here's are the main reasons why __init__() function is used:\n",
    "\n",
    "#### 1. Object Initialization: The primary purpose of the __init__() function is to initialize the state of an object by assingning values to its attributes. It allows you to set the initial values of the object's properties based on the arguments passed during object creation.\n",
    "\n",
    "#### 2. Attribute Assignment: The __init__() function provides a convenient place to define and assign attribute values. Inside the __init__() method, you can you the 'self' parameter(which refers to the object being created) to assign values to the object's attributes.\n",
    "\n",
    "#### 3. Customization: By using parameters in the __init__() function, you can customize the initialization process and allow users to provide specific values for the object's attributes. This makes the object creation flexible and adaptable to different scenarios.\n",
    "\n",
    "#### An example of __init__() function is given below:"
   ]
  },
  {
   "cell_type": "code",
   "execution_count": 4,
   "id": "4e060772-5431-4441-a9ae-1eac79300dc3",
   "metadata": {},
   "outputs": [
    {
     "name": "stdout",
     "output_type": "stream",
     "text": [
      "Hashim\n",
      "27\n",
      "hello my name is Hashim and i am 28 years old\n",
      "hello my name is Ali and i am 27 years old\n"
     ]
    }
   ],
   "source": [
    "class person:\n",
    "    \n",
    "    def __init__(self, name, age):\n",
    "        self.name= name\n",
    "        self.age= age\n",
    "    \n",
    "    def introduce(self):\n",
    "        print('hello my name is', self.name, 'and i am', self.age, 'years old')\n",
    "# Creating object and initializing attributes\n",
    "p1= person('Hashim', 28)\n",
    "p2= person('Ali', 27)\n",
    "\n",
    "# Accessing object attributes\n",
    "print(p1.name)\n",
    "print(p2.age)\n",
    "\n",
    "#Calling object methods\n",
    "p1.introduce()\n",
    "p2.introduce()"
   ]
  },
  {
   "cell_type": "markdown",
   "id": "191c64b3-91cb-4f5c-8b54-173fb47dc72f",
   "metadata": {},
   "source": [
    "#### Q4. Why self is used in OOPs?\n",
    "\n",
    "#### Sol. In object-oriented programming(OOP), 'self' is a convention used to refer to the instance of a class within teh class itself. It is a reference to the current object that is being maniputated or accessed. Here's why 'self' is used in OOP:\n",
    "\n",
    "#### 1. Accessing Instance Variable: Within a class 'self' is used to access instance variables, which are the attributes specific to each object of the class. By using 'self.variable_name', you can access and modify the instance variable of the current object.\n",
    "\n",
    "#### 2. Calling Class Methods: 'self' is also used to call methods within the class itself. Class methods are defined within a class and perform actions or operations related to the class. By using 'self.method_name()', you can call and execute a class method.\n",
    "\n",
    "#### 3. Differentiating Local and Instance variables: In methods of a class, 'self' helps to differentiate between local variables and instance variables. When you assign a value to a variable within a method using 'self.variable_name', it becomes an instance variable, accessible to all methods of the class. \n",
    "\n",
    "#### 4. Referencing the Current object: 'self' is used to refer to the current object itself. It allows you to access the attributes and methods of the current object within the class."
   ]
  },
  {
   "cell_type": "markdown",
   "id": "d9a90082-a99c-4b2b-b057-da841c63896c",
   "metadata": {},
   "source": [
    "#### Q5. What is inheritance? Give an example for each type of inheritance.\n",
    "\n",
    "#### Sol. Inheritance is a fundamental concept in object-oriented programming(OOP) that allows classes to inherit attributes and methods from other classes. It establishes a relationship between classes, where one class (derived class or subclass) inherits the properties and behaviors of other class (base class or superclass).\n",
    "\n",
    "#### Inheritance provides the following benefits:\n",
    "\n",
    "* Code reusability: Inherited attributes and methods can be reused in multiple classes without duplicating code.\n",
    "\n",
    "* Modularity: Inheritance promotes modular design by allowing the creation of specialized classes based on existing ones.\n",
    "\n",
    "* Extensibility: Subclasses can add or modify the behavior of inherited methods to suit their specific requirements.\n",
    "\n",
    "#### There are several types of inheritance, including:\n",
    "\n",
    "1. Single Inheritance: Single inheritance involves inheriting attributes and methods from a single baser class.\n",
    "\n",
    "* Example of single inheritance is given below:"
   ]
  },
  {
   "cell_type": "code",
   "execution_count": 3,
   "id": "d59ec797-2e7c-4cbe-a16b-979099355b17",
   "metadata": {},
   "outputs": [
    {
     "name": "stdout",
     "output_type": "stream",
     "text": [
      "Human speaks\n",
      "Man eats\n"
     ]
    }
   ],
   "source": [
    "class Human:\n",
    "    def speak(self):\n",
    "        print('Human speaks')\n",
    "        \n",
    "class Man(Human):\n",
    "    def eat(self):\n",
    "        print('Man eats')\n",
    "        \n",
    "M=Man()\n",
    "M.speak()\n",
    "M.eat()"
   ]
  },
  {
   "cell_type": "markdown",
   "id": "9df28bdc-dbbc-4252-9683-17e5c87a4cc8",
   "metadata": {},
   "source": [
    "2. Multiple Inheritance: Multiple inheritance involves inheriting attributes and methods from multiple base classes.\n",
    "\n",
    "* Example of Multiple inheritance is given below:"
   ]
  },
  {
   "cell_type": "code",
   "execution_count": 7,
   "id": "020b57dc-2685-4bf9-a4b1-75e29e056dd1",
   "metadata": {},
   "outputs": [
    {
     "name": "stdout",
     "output_type": "stream",
     "text": [
      "Son thinks\n",
      "father cares\n",
      "Mother loves\n"
     ]
    }
   ],
   "source": [
    "class Son:\n",
    "    def think(self):\n",
    "        print('Son thinks')\n",
    "        \n",
    "class Father:\n",
    "    def care(self):\n",
    "        print('father cares')\n",
    "        \n",
    "class Mother(Son, Father):\n",
    "    def love(self):\n",
    "        print('Mother loves')\n",
    "        \n",
    "Mom= Mother()\n",
    "Mom.think() \n",
    "Mom.care()\n",
    "Mom.love()\n",
    "        "
   ]
  },
  {
   "cell_type": "markdown",
   "id": "318e5ff3-51f1-483b-b822-31dbfd3318d3",
   "metadata": {},
   "source": [
    "3. Multilevel Inheritance: Multilevel inheritance involves inheriting attributes and methods from a base class, which itself inherits from base class.\n",
    "\n",
    "* Example of Multilevel inheritance is given below:"
   ]
  },
  {
   "cell_type": "code",
   "execution_count": 9,
   "id": "045a8b3d-3d53-47be-a6af-e4709f31f14a",
   "metadata": {},
   "outputs": [
    {
     "name": "stdout",
     "output_type": "stream",
     "text": [
      "Son thinks\n",
      "father cares\n",
      "Mother loves\n"
     ]
    }
   ],
   "source": [
    "class Son:\n",
    "    def think(self):\n",
    "        print('Son thinks')\n",
    "        \n",
    "class Father(Son):\n",
    "    def care(self):\n",
    "        print('father cares')\n",
    "        \n",
    "class Mother(Father):\n",
    "    def love(self):\n",
    "        print('Mother loves')\n",
    "        \n",
    "Mom= Mother()\n",
    "Mom.think() \n",
    "Mom.care()\n",
    "Mom.love()      "
   ]
  },
  {
   "cell_type": "markdown",
   "id": "2c0ac011-f40a-4cb0-a3a7-a276ff79fdd1",
   "metadata": {},
   "source": [
    "4. Hierarchical Inheritance: Hierrarchical inheritance involves multiple derived classes inheriting from a single base class.\n",
    "\n",
    "* Example of Hierarchical inheritance is given below:"
   ]
  },
  {
   "cell_type": "code",
   "execution_count": 10,
   "id": "c3c5ee9f-1f6e-4c9f-9f9b-079e962e01f0",
   "metadata": {},
   "outputs": [
    {
     "name": "stdout",
     "output_type": "stream",
     "text": [
      "Son thinks\n",
      "father cares\n",
      "Son thinks\n",
      "Mother loves\n"
     ]
    }
   ],
   "source": [
    "class Son:\n",
    "    def think(self):\n",
    "        print('Son thinks')\n",
    "        \n",
    "class Father(Son):\n",
    "    def care(self):\n",
    "        print('father cares')\n",
    "        \n",
    "class Mother(Father):\n",
    "    def love(self):\n",
    "        print('Mother loves')\n",
    "        \n",
    "Fath= Father()\n",
    "Fath.think() \n",
    "Fath.care()\n",
    "\n",
    "Mom=Mother()\n",
    "Mom.think()\n",
    "Mom.love()"
   ]
  }
 ],
 "metadata": {
  "kernelspec": {
   "display_name": "Python 3 (ipykernel)",
   "language": "python",
   "name": "python3"
  },
  "language_info": {
   "codemirror_mode": {
    "name": "ipython",
    "version": 3
   },
   "file_extension": ".py",
   "mimetype": "text/x-python",
   "name": "python",
   "nbconvert_exporter": "python",
   "pygments_lexer": "ipython3",
   "version": "3.10.8"
  }
 },
 "nbformat": 4,
 "nbformat_minor": 5
}
